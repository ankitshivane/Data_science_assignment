{
 "cells": [
  {
   "cell_type": "markdown",
   "id": "ad03ba16",
   "metadata": {},
   "source": [
    "# Python Basic Assignments"
   ]
  },
  {
   "cell_type": "raw",
   "id": "3f73a68f",
   "metadata": {},
   "source": [
    "\n",
    "Assignment_1"
   ]
  },
  {
   "cell_type": "raw",
   "id": "fc113a50",
   "metadata": {},
   "source": [
    "1. In the below elements which of them are values or an expression? eg:- values can be integer or string and expressions will be mathematical operators.\n",
    "    \n",
    "    Ans:\n",
    "\n",
    "    Values as below:\n",
    "        1) 'hello'\n",
    "        2) -87.8\n",
    "        3) 6\n",
    "    Expression as below:\n",
    "        1) *\n",
    "        2) -\n",
    "        3) /\n",
    "        4) +"
   ]
  },
  {
   "cell_type": "code",
   "execution_count": null,
   "id": "fd92022f",
   "metadata": {},
   "outputs": [],
   "source": []
  },
  {
   "cell_type": "raw",
   "id": "7ccb7c6a",
   "metadata": {},
   "source": [
    "2. What is the difference between string and variable?\n",
    "\n",
    "Ans:\n",
    "    string in python is data type containing sequence of characters enclose within single quote, double quotes and triple quotes\n",
    "    to know whther given value is a type of string we can also use type() function in python which will return 'str' as output if the given value is string"
   ]
  },
  {
   "cell_type": "code",
   "execution_count": null,
   "id": "c6f66c76",
   "metadata": {},
   "outputs": [],
   "source": []
  },
  {
   "cell_type": "raw",
   "id": "ce3486f6",
   "metadata": {},
   "source": [
    "3. Describe three different data types.\n",
    "Ans:\n",
    "    Below are one of the 3 built in data types in python as:\n",
    "        1) Numeric:\n",
    "            a) Integer\n",
    "            b) Float\n",
    "            c) complex number\n",
    "        2) Boolean\n",
    "        3)Set\n",
    "\n",
    "1) Numeric\n",
    "In Python, numeric data type represent the data which has numeric value. Numeric value can be integer, floating number or even complex numbers.\n",
    "These values are defined as int, float and complex class in Python.\n",
    "a) Integer:\n",
    "    Integer data types representing in python with int class and it contins whole number only. There is no limit on int value in python\n",
    "b) Float:\n",
    "    Floating data type represented in python with float class and it contains value with floating point\n",
    "c) complex numbers:\n",
    "    Complex number is represented by complex class. It is specified as (real part) + (imaginary part)j.\n",
    "\n",
    "\n",
    "2) Boolean:\n",
    "    boolean data type is represented by bool class and it cantains only two values as True and False. True and False with capital ‘T’ and ‘F’ are valid booleans otherwise python will throw an error.\n",
    "\n",
    "3) Set:\n",
    "    In Python, Set is an unordered collection of data type that is iterable, mutable and has no duplicate elements.\n",
    "    Creating Sets\n",
    "Sets can be created by using the built-in set() function with an iterable object or a sequence by placing the sequence inside curly braces, separated by ‘comma’. Type of elements in a set need not be the same, various mixed-up data type values can also be passed to the set.\n",
    "For Example:\n",
    "    set1 = set([1,3,\"str\"]) \n",
    "    print(set1) \n"
   ]
  },
  {
   "cell_type": "code",
   "execution_count": null,
   "id": "74f17d54",
   "metadata": {},
   "outputs": [],
   "source": []
  },
  {
   "cell_type": "raw",
   "id": "42110ed6",
   "metadata": {},
   "source": [
    "4. What is an expression made up of? What do all expressions do?\n",
    "\n",
    "An expression is a combination of operators and operands that is interpreted to produce some other value. In any programming language, an expression is evaluated as per the precedence of its operators. So that if there is more than one operator in an expression, their precedence decides which operation will be performed first. We have many different types of expressions in Python.\n",
    "1) Arithmetic Expressions: \n",
    "\n",
    "    Operators\tSyntax\tFunctioning\n",
    "            +\tx + y\tAddition\n",
    "            –\tx – y\tSubtraction\n",
    "            *\tx * y\tMultiplication\n",
    "            /\tx / y\tDivision\n",
    "            //\tx // y\tQuotient\n",
    "            %\tx % y\tRemainder\n",
    "            **\tx ** y\tExponentiation\n",
    "\n",
    "2) relational Expressions:In these types of expressions, arithmetic expressions are written on both sides of relational operator (> , < , >= , <=). where relational operators are used to compare the values and return the Boolean result as per them\n",
    "\n",
    "3) Logical Expressions:  These are kinds of expressions that result in either True or False. It basically specifies one or more conditions. \n",
    "\n",
    "Operator\tSyntax\t Functioning\n",
    "and         P and Q\t It returns true if both P and Q are true otherwise returns false\n",
    "or\t        P or Q\t It returns true if at least one of P and Q is true\n",
    "not\t        not P\t It returns true if condition P is false"
   ]
  },
  {
   "cell_type": "code",
   "execution_count": null,
   "id": "1382da61",
   "metadata": {},
   "outputs": [],
   "source": []
  },
  {
   "cell_type": "raw",
   "id": "ac673e25",
   "metadata": {},
   "source": [
    "5. This assignment statements, like spam = 10. What is the difference between an expression and a statement?\n",
    "\n",
    "Expression\t                                             Statement\n",
    "An expression evaluates to a value\t                     A statement executes something\n",
    "\n",
    "Evaluation of an expression always Produces              Execution of a statement may or may not produces or displays a result   or returns a result value.                               value, it only does whatever the statement says.\n",
    "\n",
    "Every expression can’t be a statement.                   Every statement can be an expression.\n",
    "\n",
    "Example: >>> spam=10                                    Example: >>> spam=10\n",
    "                                                                 >>> print(spam)\n",
    "                                                                 Output: 10"
   ]
  },
  {
   "cell_type": "raw",
   "id": "82476864",
   "metadata": {},
   "source": [
    "6. After running the following code, what does the variable bacon contain?\n",
    "bacon = 22\n",
    "bacon + 1\n",
    "\n",
    "Ans : 22"
   ]
  },
  {
   "cell_type": "code",
   "execution_count": null,
   "id": "d92cfab1",
   "metadata": {},
   "outputs": [],
   "source": []
  },
  {
   "cell_type": "raw",
   "id": "00a9b297",
   "metadata": {},
   "source": [
    "7. What should the values of the following two terms be?\n",
    "'spam' + 'spamspam'\n",
    "'spam' * 3\n",
    "\n",
    "Ans:\n",
    "    Output: spamspamspam\n",
    "    because we are not storing the result of 'spam' + 'spamspam' anywhere and then we are directly reapting the 'spam' string 3 times"
   ]
  },
  {
   "cell_type": "code",
   "execution_count": null,
   "id": "7253797a",
   "metadata": {},
   "outputs": [],
   "source": []
  },
  {
   "cell_type": "raw",
   "id": "572b670f",
   "metadata": {},
   "source": [
    "8. Why is eggs a valid variable name while 100 is invalid?\n",
    "\n",
    "Ans:\n",
    "    A variable name can only contain alpha-numeric characters and underscores (A-z, 0-9, and _ ).\n",
    "    A Variable cannot contain only digit or start with digit so that is why '100' is a invalid variable name and eggs is a valid name"
   ]
  },
  {
   "cell_type": "code",
   "execution_count": null,
   "id": "69c34583",
   "metadata": {},
   "outputs": [],
   "source": []
  },
  {
   "cell_type": "raw",
   "id": "96f8e027",
   "metadata": {},
   "source": [
    "9. What three functions can be used to get the integer, floating-point number, or string version of a value?\n",
    "\n",
    "Ans:\n",
    "    The int() , float() , and str( ) functions will evaluate to the integer, floating-point number, and string versions of the value passed to them."
   ]
  },
  {
   "cell_type": "code",
   "execution_count": null,
   "id": "20c38bcc",
   "metadata": {},
   "outputs": [],
   "source": []
  },
  {
   "cell_type": "raw",
   "id": "9646d626",
   "metadata": {},
   "source": [
    "10. Why does this expression cause an error? How can you fix it?\n",
    "'I have eaten ' + 99 + ' burritos.'\n",
    "\n",
    "Ans: this statement cause an error because we are concating string with an integer value 99 using + as a concatenation operator. we can only concate 'str' type data with '+' operator.\n",
    "    We can Fix this given issue using below ways\n",
    "    a) 'I have eaten ' + '99' + ' burritos.'\n",
    "    OR\n",
    "    b) 'I have eaten ' + str(99) + ' burritos.'"
   ]
  },
  {
   "cell_type": "code",
   "execution_count": null,
   "id": "e7b3d268",
   "metadata": {},
   "outputs": [],
   "source": []
  }
 ],
 "metadata": {
  "kernelspec": {
   "display_name": "Python 3 (ipykernel)",
   "language": "python",
   "name": "python3"
  },
  "language_info": {
   "codemirror_mode": {
    "name": "ipython",
    "version": 3
   },
   "file_extension": ".py",
   "mimetype": "text/x-python",
   "name": "python",
   "nbconvert_exporter": "python",
   "pygments_lexer": "ipython3",
   "version": "3.9.7"
  }
 },
 "nbformat": 4,
 "nbformat_minor": 5
}
